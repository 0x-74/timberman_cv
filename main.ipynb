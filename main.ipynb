{
 "cells": [
  {
   "cell_type": "code",
   "execution_count": 1,
   "metadata": {},
   "outputs": [],
   "source": [
    "import numpy as np\n",
    "import cv2\n",
    "import pyautogui\n",
    "import Quartz\n",
    "import Quartz.CoreGraphics as CG\n",
    "from PIL import Image\n",
    "import tkinter as tk\n",
    "import time\n",
    "import keyboard\n"
   ]
  },
  {
   "cell_type": "code",
   "execution_count": 8,
   "metadata": {},
   "outputs": [],
   "source": [
    "def get_window(window_name):\n",
    "    for window in Quartz.CGWindowListCopyWindowInfo(\n",
    "        Quartz.kCGWindowListOptionOnScreenOnly,\n",
    "        Quartz.kCGNullWindowID,\n",
    "    ):\n",
    "        if window['kCGWindowName']==window_name:\n",
    "            return window"
   ]
  },
  {
   "cell_type": "code",
   "execution_count": 9,
   "metadata": {},
   "outputs": [],
   "source": [
    "window_title='Timberman'\n",
    "window = get_window(window_title)"
   ]
  },
  {
   "cell_type": "code",
   "execution_count": 10,
   "metadata": {},
   "outputs": [],
   "source": [
    "template_flipped = cv2.flip(cv2.imread('template.png',0),1)\n",
    "template = cv2.imread('template.png',0)\n",
    "switch = True\n",
    "h,w = template.shape\n",
    "method = cv2.TM_SQDIFF_NORMED"
   ]
  },
  {
   "cell_type": "code",
   "execution_count": 11,
   "metadata": {},
   "outputs": [],
   "source": [
    "!rm -r result\n",
    "!mkdir result"
   ]
  },
  {
   "cell_type": "code",
   "execution_count": 16,
   "metadata": {},
   "outputs": [
    {
     "name": "stderr",
     "output_type": "stream",
     "text": [
      "Exception in thread Thread-21:\n",
      "Traceback (most recent call last):\n",
      "  File \"/Applications/Xcode.app/Contents/Developer/Library/Frameworks/Python3.framework/Versions/3.9/lib/python3.9/threading.py\", line 973, in _bootstrap_inner\n",
      "    self.run()\n",
      "  File \"/Users/ezk/Library/Python/3.9/lib/python/site-packages/ipykernel/ipkernel.py\", line 766, in run_closure\n",
      "    _threading_Thread_run(self)\n",
      "  File \"/Applications/Xcode.app/Contents/Developer/Library/Frameworks/Python3.framework/Versions/3.9/lib/python3.9/threading.py\", line 910, in run\n",
      "    self._target(*self._args, **self._kwargs)\n",
      "  File \"/Users/ezk/Library/Python/3.9/lib/python/site-packages/keyboard/__init__.py\", line 294, in listen\n",
      "    _os_keyboard.listen(self.direct_callback)\n",
      "  File \"/Users/ezk/Library/Python/3.9/lib/python/site-packages/keyboard/_darwinkeyboard.py\", line 430, in listen\n",
      "    raise OSError(\"Error 13 - Must be run as administrator\")\n",
      "OSError: Error 13 - Must be run as administrator\n"
     ]
    },
    {
     "name": "stdout",
     "output_type": "stream",
     "text": [
      "1.0\n",
      "1.0\n",
      "1.0\n",
      "1.0\n",
      "1.0\n",
      "1.0\n",
      "1.0\n",
      "1.0\n",
      "1.0\n",
      "1.0\n",
      "1.0\n",
      "1.0\n",
      "1.0\n",
      "1.0\n",
      "1.0\n",
      "1.0\n",
      "1.0\n",
      "1.0\n",
      "1.0\n",
      "1.0\n",
      "1.0\n",
      "1.0\n",
      "1.0\n",
      "1.0\n",
      "1.0\n",
      "1.0\n",
      "1.0\n",
      "1.0\n",
      "1.0\n",
      "1.0\n",
      "1.0\n",
      "1.0\n",
      "1.0\n",
      "1.0\n",
      "1.0\n",
      "1.0\n",
      "1.0\n",
      "1.0\n",
      "1.0\n",
      "1.0\n",
      "1.0\n",
      "1.0\n",
      "1.0\n",
      "1.0\n",
      "1.0\n",
      "1.0\n",
      "1.0\n",
      "1.0\n",
      "1.0\n",
      "1.0\n",
      "1.0\n",
      "1.0\n",
      "1.0\n",
      "1.0\n",
      "1.0\n",
      "1.0\n",
      "1.0\n",
      "1.0\n",
      "1.0\n",
      "1.0\n",
      "1.0\n",
      "1.0\n",
      "1.0\n",
      "1.0\n",
      "1.0\n",
      "1.0\n",
      "1.0\n",
      "1.0\n",
      "1.0\n",
      "1.0\n",
      "1.0\n",
      "1.0\n",
      "1.0\n",
      "1.0\n",
      "1.0\n",
      "1.0\n",
      "1.0\n",
      "1.0\n",
      "1.0\n",
      "1.0\n",
      "1.0\n",
      "1.0\n",
      "1.0\n",
      "1.0\n",
      "1.0\n",
      "1.0\n",
      "1.0\n"
     ]
    }
   ],
   "source": [
    "def click_left():\n",
    "    pyautogui.click(100,700)\n",
    "def click_right():\n",
    "    pyautogui.click(300,700)\n",
    "\n",
    "while True:\n",
    "    if keyboard.is_pressed('esc'):\n",
    "        break\n",
    "    region = CG.CGRectMake(\n",
    "    window['kCGWindowBounds']['X'],\n",
    "    window['kCGWindowBounds']['Y']+400,\n",
    "    window['kCGWindowBounds']['Width']-100,\n",
    "    window['kCGWindowBounds']['Height']-650,\n",
    ")\n",
    "\n",
    "    cg_image = CG.CGWindowListCreateImage(\n",
    "        region,\n",
    "        CG.kCGWindowListOptionOnScreenOnly,\n",
    "        window['kCGWindowOwnerPID'],\n",
    "        CG.kCGWindowImageDefault,\n",
    "    )\n",
    "\n",
    "    image = Image.frombuffer(\n",
    "        'RGBA',\n",
    "        (CG.CGImageGetWidth(cg_image), CG.CGImageGetHeight(cg_image)),\n",
    "        CG.CGDataProviderCopyData(CG.CGImageGetDataProvider(cg_image)),\n",
    "        'raw',\n",
    "        'BGRA',\n",
    "        CG.CGImageGetBytesPerRow(cg_image),\n",
    "        1,\n",
    "    )\n",
    "    if switch:\n",
    "        image = cv2.cvtColor(np.array(image), cv2.COLOR_RGB2GRAY)\n",
    "        img2 = image.copy()\n",
    "        result = cv2.matchTemplate(img2, template, method)\n",
    "        min_val, max_val, min_loc, max_loc = cv2.minMaxLoc(result)\n",
    "        print(min_val)\n",
    "        location = min_loc\n",
    "        bottom_right = (location[0] + w, location[1] + h)\n",
    "        img2 = cv2.rectangle(img2,location,bottom_right,255,5)\n",
    "        cv2.imwrite(f'result/{i}.png',img2)\n",
    "        if min_val>0.146:\n",
    "            time.sleep(0.01)\n",
    "            click_right()\n",
    "    else:\n",
    "        image = cv2.cvtColor(np.array(image), cv2.COLOR_RGB2GRAY)\n",
    "        img2 = image.copy()\n",
    "        result = cv2.matchTemplate(img2, template_flipped, method)\n",
    "        min_val, max_val, min_loc, max_loc = cv2.minMaxLoc(result)\n",
    "        print(min_val)\n",
    "        location = min_loc\n",
    "        img2 = cv2.rectangle(img2,location,bottom_right,255,5)\n",
    "        cv2.imwrite(f'result/{i}.png',img2)\n",
    "        bottom_right = (location[0] + w, location[1] + h)\n",
    "        if min_val>0.146:\n",
    "            time.sleep(0.01)\n",
    "            click_left()\n",
    "    if min_val<0.14 and min_val>0.06:\n",
    "        switch = not switch\n",
    "    cv2.destroyAllWindows()"
   ]
  },
  {
   "cell_type": "code",
   "execution_count": 65,
   "metadata": {},
   "outputs": [
    {
     "data": {
      "text/plain": [
       "(243, 122)"
      ]
     },
     "execution_count": 65,
     "metadata": {},
     "output_type": "execute_result"
    }
   ],
   "source": [
    "location"
   ]
  },
  {
   "cell_type": "code",
   "execution_count": null,
   "metadata": {},
   "outputs": [],
   "source": []
  }
 ],
 "metadata": {
  "kernelspec": {
   "display_name": "Python 3",
   "language": "python",
   "name": "python3"
  },
  "language_info": {
   "codemirror_mode": {
    "name": "ipython",
    "version": 3
   },
   "file_extension": ".py",
   "mimetype": "text/x-python",
   "name": "python",
   "nbconvert_exporter": "python",
   "pygments_lexer": "ipython3",
   "version": "3.9.6"
  }
 },
 "nbformat": 4,
 "nbformat_minor": 2
}
