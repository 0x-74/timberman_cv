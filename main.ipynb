{
 "cells": [
  {
   "cell_type": "code",
   "execution_count": 1,
   "metadata": {},
   "outputs": [
    {
     "name": "stdout",
     "output_type": "stream",
     "text": [
      "Defaulting to user installation because normal site-packages is not writeable\n",
      "Requirement already satisfied: nbconvert in /Users/ezk/Library/Python/3.9/lib/python/site-packages (7.16.4)\n",
      "Requirement already satisfied: beautifulsoup4 in /Users/ezk/Library/Python/3.9/lib/python/site-packages (from nbconvert) (4.12.3)\n",
      "Requirement already satisfied: pandocfilters>=1.4.1 in /Users/ezk/Library/Python/3.9/lib/python/site-packages (from nbconvert) (1.5.1)\n",
      "Requirement already satisfied: bleach!=5.0.0 in /Users/ezk/Library/Python/3.9/lib/python/site-packages (from nbconvert) (6.1.0)\n",
      "Requirement already satisfied: traitlets>=5.1 in /Users/ezk/Library/Python/3.9/lib/python/site-packages (from nbconvert) (5.14.3)\n",
      "Requirement already satisfied: markupsafe>=2.0 in /Users/ezk/Library/Python/3.9/lib/python/site-packages (from nbconvert) (2.1.5)\n",
      "Requirement already satisfied: packaging in /Users/ezk/Library/Python/3.9/lib/python/site-packages (from nbconvert) (24.1)\n",
      "Requirement already satisfied: jupyter-core>=4.7 in /Users/ezk/Library/Python/3.9/lib/python/site-packages (from nbconvert) (5.7.2)\n",
      "Requirement already satisfied: mistune<4,>=2.0.3 in /Users/ezk/Library/Python/3.9/lib/python/site-packages (from nbconvert) (3.0.2)\n",
      "Requirement already satisfied: importlib-metadata>=3.6 in /Users/ezk/Library/Python/3.9/lib/python/site-packages (from nbconvert) (8.2.0)\n",
      "Requirement already satisfied: nbformat>=5.7 in /Users/ezk/Library/Python/3.9/lib/python/site-packages (from nbconvert) (5.10.4)\n",
      "Requirement already satisfied: defusedxml in /Users/ezk/Library/Python/3.9/lib/python/site-packages (from nbconvert) (0.7.1)\n",
      "Requirement already satisfied: tinycss2 in /Users/ezk/Library/Python/3.9/lib/python/site-packages (from nbconvert) (1.3.0)\n",
      "Requirement already satisfied: pygments>=2.4.1 in /Users/ezk/Library/Python/3.9/lib/python/site-packages (from nbconvert) (2.18.0)\n",
      "Requirement already satisfied: jupyterlab-pygments in /Users/ezk/Library/Python/3.9/lib/python/site-packages (from nbconvert) (0.3.0)\n",
      "Requirement already satisfied: nbclient>=0.5.0 in /Users/ezk/Library/Python/3.9/lib/python/site-packages (from nbconvert) (0.10.0)\n",
      "Requirement already satisfied: jinja2>=3.0 in /Users/ezk/Library/Python/3.9/lib/python/site-packages (from nbconvert) (3.1.4)\n",
      "Requirement already satisfied: webencodings in /Users/ezk/Library/Python/3.9/lib/python/site-packages (from bleach!=5.0.0->nbconvert) (0.5.1)\n",
      "Requirement already satisfied: six>=1.9.0 in /Applications/Xcode.app/Contents/Developer/Library/Frameworks/Python3.framework/Versions/3.9/lib/python3.9/site-packages (from bleach!=5.0.0->nbconvert) (1.15.0)\n",
      "Requirement already satisfied: zipp>=0.5 in /Users/ezk/Library/Python/3.9/lib/python/site-packages (from importlib-metadata>=3.6->nbconvert) (3.19.2)\n",
      "Requirement already satisfied: platformdirs>=2.5 in /Users/ezk/Library/Python/3.9/lib/python/site-packages (from jupyter-core>=4.7->nbconvert) (4.2.2)\n",
      "Requirement already satisfied: jupyter-client>=6.1.12 in /Users/ezk/Library/Python/3.9/lib/python/site-packages (from nbclient>=0.5.0->nbconvert) (8.6.2)\n",
      "Requirement already satisfied: pyzmq>=23.0 in /Users/ezk/Library/Python/3.9/lib/python/site-packages (from jupyter-client>=6.1.12->nbclient>=0.5.0->nbconvert) (26.1.0)\n",
      "Requirement already satisfied: tornado>=6.2 in /Users/ezk/Library/Python/3.9/lib/python/site-packages (from jupyter-client>=6.1.12->nbclient>=0.5.0->nbconvert) (6.4.1)\n",
      "Requirement already satisfied: python-dateutil>=2.8.2 in /Users/ezk/Library/Python/3.9/lib/python/site-packages (from jupyter-client>=6.1.12->nbclient>=0.5.0->nbconvert) (2.9.0.post0)\n",
      "Requirement already satisfied: fastjsonschema>=2.15 in /Users/ezk/Library/Python/3.9/lib/python/site-packages (from nbformat>=5.7->nbconvert) (2.20.0)\n",
      "Requirement already satisfied: jsonschema>=2.6 in /Users/ezk/Library/Python/3.9/lib/python/site-packages (from nbformat>=5.7->nbconvert) (4.23.0)\n",
      "Requirement already satisfied: jsonschema-specifications>=2023.03.6 in /Users/ezk/Library/Python/3.9/lib/python/site-packages (from jsonschema>=2.6->nbformat>=5.7->nbconvert) (2023.12.1)\n",
      "Requirement already satisfied: rpds-py>=0.7.1 in /Users/ezk/Library/Python/3.9/lib/python/site-packages (from jsonschema>=2.6->nbformat>=5.7->nbconvert) (0.20.0)\n",
      "Requirement already satisfied: referencing>=0.28.4 in /Users/ezk/Library/Python/3.9/lib/python/site-packages (from jsonschema>=2.6->nbformat>=5.7->nbconvert) (0.35.1)\n",
      "Requirement already satisfied: attrs>=22.2.0 in /Users/ezk/Library/Python/3.9/lib/python/site-packages (from jsonschema>=2.6->nbformat>=5.7->nbconvert) (24.2.0)\n",
      "Requirement already satisfied: soupsieve>1.2 in /Users/ezk/Library/Python/3.9/lib/python/site-packages (from beautifulsoup4->nbconvert) (2.6)\n",
      "\u001b[33mWARNING: You are using pip version 21.2.4; however, version 24.2 is available.\n",
      "You should consider upgrading via the '/Applications/Xcode.app/Contents/Developer/usr/bin/python3 -m pip install --upgrade pip' command.\u001b[0m\n",
      "Note: you may need to restart the kernel to use updated packages.\n"
     ]
    }
   ],
   "source": [
    "%pip install nbconvert"
   ]
  },
  {
   "cell_type": "code",
   "execution_count": 5,
   "metadata": {},
   "outputs": [
    {
     "name": "stdout",
     "output_type": "stream",
     "text": [
      "[NbConvertApp] Converting notebook main.ipynb to script\n",
      "[NbConvertApp] Writing 2984 bytes to main.py\n"
     ]
    }
   ],
   "source": [
    "!jupyter nbconvert --to script main.ipynb"
   ]
  },
  {
   "cell_type": "code",
   "execution_count": 2,
   "metadata": {},
   "outputs": [],
   "source": [
    "import numpy as np\n",
    "import cv2\n",
    "import pyautogui\n",
    "import Quartz\n",
    "import Quartz.CoreGraphics as CG\n",
    "from PIL import Image\n",
    "import time\n",
    "import keyboard\n"
   ]
  },
  {
   "cell_type": "code",
   "execution_count": 3,
   "metadata": {},
   "outputs": [],
   "source": [
    "def get_window(window_name):\n",
    "    for window in Quartz.CGWindowListCopyWindowInfo(\n",
    "        Quartz.kCGWindowListOptionOnScreenOnly,\n",
    "        Quartz.kCGNullWindowID,\n",
    "    ):\n",
    "        if window['kCGWindowName']==window_name:\n",
    "            return window"
   ]
  },
  {
   "cell_type": "code",
   "execution_count": 31,
   "metadata": {},
   "outputs": [],
   "source": [
    "window_title='Timberman'\n",
    "window = get_window(window_title)"
   ]
  },
  {
   "cell_type": "code",
   "execution_count": 5,
   "metadata": {},
   "outputs": [],
   "source": [
    "template_flipped = cv2.flip(cv2.imread('template.png',0),1)\n",
    "template = cv2.imread('template.png',0)\n",
    "switch = True\n",
    "h,w = template.shape\n",
    "method = cv2.TM_SQDIFF_NORMED"
   ]
  },
  {
   "cell_type": "code",
   "execution_count": 6,
   "metadata": {},
   "outputs": [
    {
     "name": "stdout",
     "output_type": "stream",
     "text": [
      "rm: result: No such file or directory\n"
     ]
    }
   ],
   "source": [
    "!rm -r result\n",
    "!mkdir result"
   ]
  },
  {
   "cell_type": "code",
   "execution_count": 7,
   "metadata": {},
   "outputs": [
    {
     "name": "stderr",
     "output_type": "stream",
     "text": [
      "Exception in thread Thread-4:\n",
      "Traceback (most recent call last):\n",
      "  File \"/Applications/Xcode.app/Contents/Developer/Library/Frameworks/Python3.framework/Versions/3.9/lib/python3.9/threading.py\", line 973, in _bootstrap_inner\n",
      "    self.run()\n",
      "  File \"/Users/ezk/Library/Python/3.9/lib/python/site-packages/ipykernel/ipkernel.py\", line 766, in run_closure\n",
      "    _threading_Thread_run(self)\n",
      "  File \"/Applications/Xcode.app/Contents/Developer/Library/Frameworks/Python3.framework/Versions/3.9/lib/python3.9/threading.py\", line 910, in run\n",
      "    self._target(*self._args, **self._kwargs)\n",
      "  File \"/Users/ezk/Library/Python/3.9/lib/python/site-packages/keyboard/__init__.py\", line 294, in listen\n",
      "    _os_keyboard.listen(self.direct_callback)\n",
      "  File \"/Users/ezk/Library/Python/3.9/lib/python/site-packages/keyboard/_darwinkeyboard.py\", line 430, in listen\n",
      "    raise OSError(\"Error 13 - Must be run as administrator\")\n",
      "OSError: Error 13 - Must be run as administrator\n"
     ]
    },
    {
     "ename": "TypeError",
     "evalue": "'NoneType' object is not subscriptable",
     "output_type": "error",
     "traceback": [
      "\u001b[0;31m---------------------------------------------------------------------------\u001b[0m",
      "\u001b[0;31mTypeError\u001b[0m                                 Traceback (most recent call last)",
      "Cell \u001b[0;32mIn[7], line 10\u001b[0m\n\u001b[1;32m      7\u001b[0m     \u001b[38;5;28;01mif\u001b[39;00m keyboard\u001b[38;5;241m.\u001b[39mis_pressed(\u001b[38;5;124m'\u001b[39m\u001b[38;5;124mesc\u001b[39m\u001b[38;5;124m'\u001b[39m):\n\u001b[1;32m      8\u001b[0m         \u001b[38;5;28;01mbreak\u001b[39;00m\n\u001b[1;32m      9\u001b[0m     region \u001b[38;5;241m=\u001b[39m CG\u001b[38;5;241m.\u001b[39mCGRectMake(\n\u001b[0;32m---> 10\u001b[0m     \u001b[43mwindow\u001b[49m\u001b[43m[\u001b[49m\u001b[38;5;124;43m'\u001b[39;49m\u001b[38;5;124;43mkCGWindowBounds\u001b[39;49m\u001b[38;5;124;43m'\u001b[39;49m\u001b[43m]\u001b[49m[\u001b[38;5;124m'\u001b[39m\u001b[38;5;124mX\u001b[39m\u001b[38;5;124m'\u001b[39m],\n\u001b[1;32m     11\u001b[0m     window[\u001b[38;5;124m'\u001b[39m\u001b[38;5;124mkCGWindowBounds\u001b[39m\u001b[38;5;124m'\u001b[39m][\u001b[38;5;124m'\u001b[39m\u001b[38;5;124mY\u001b[39m\u001b[38;5;124m'\u001b[39m]\u001b[38;5;241m+\u001b[39m\u001b[38;5;241m400\u001b[39m,\n\u001b[1;32m     12\u001b[0m     window[\u001b[38;5;124m'\u001b[39m\u001b[38;5;124mkCGWindowBounds\u001b[39m\u001b[38;5;124m'\u001b[39m][\u001b[38;5;124m'\u001b[39m\u001b[38;5;124mWidth\u001b[39m\u001b[38;5;124m'\u001b[39m]\u001b[38;5;241m-\u001b[39m\u001b[38;5;241m100\u001b[39m,\n\u001b[1;32m     13\u001b[0m     window[\u001b[38;5;124m'\u001b[39m\u001b[38;5;124mkCGWindowBounds\u001b[39m\u001b[38;5;124m'\u001b[39m][\u001b[38;5;124m'\u001b[39m\u001b[38;5;124mHeight\u001b[39m\u001b[38;5;124m'\u001b[39m]\u001b[38;5;241m-\u001b[39m\u001b[38;5;241m650\u001b[39m,\n\u001b[1;32m     14\u001b[0m )\n\u001b[1;32m     16\u001b[0m     cg_image \u001b[38;5;241m=\u001b[39m CG\u001b[38;5;241m.\u001b[39mCGWindowListCreateImage(\n\u001b[1;32m     17\u001b[0m         region,\n\u001b[1;32m     18\u001b[0m         CG\u001b[38;5;241m.\u001b[39mkCGWindowListOptionOnScreenOnly,\n\u001b[1;32m     19\u001b[0m         window[\u001b[38;5;124m'\u001b[39m\u001b[38;5;124mkCGWindowOwnerPID\u001b[39m\u001b[38;5;124m'\u001b[39m],\n\u001b[1;32m     20\u001b[0m         CG\u001b[38;5;241m.\u001b[39mkCGWindowImageDefault,\n\u001b[1;32m     21\u001b[0m     )\n\u001b[1;32m     23\u001b[0m     image \u001b[38;5;241m=\u001b[39m Image\u001b[38;5;241m.\u001b[39mfrombuffer(\n\u001b[1;32m     24\u001b[0m         \u001b[38;5;124m'\u001b[39m\u001b[38;5;124mRGBA\u001b[39m\u001b[38;5;124m'\u001b[39m,\n\u001b[1;32m     25\u001b[0m         (CG\u001b[38;5;241m.\u001b[39mCGImageGetWidth(cg_image), CG\u001b[38;5;241m.\u001b[39mCGImageGetHeight(cg_image)),\n\u001b[0;32m   (...)\u001b[0m\n\u001b[1;32m     30\u001b[0m         \u001b[38;5;241m1\u001b[39m,\n\u001b[1;32m     31\u001b[0m     )\n",
      "\u001b[0;31mTypeError\u001b[0m: 'NoneType' object is not subscriptable"
     ]
    }
   ],
   "source": [
    "def click_left():\n",
    "    pyautogui.click(100,700)\n",
    "def click_right():\n",
    "    pyautogui.click(300,700)\n",
    "\n",
    "while True:\n",
    "    if keyboard.is_pressed('esc'):\n",
    "        break\n",
    "    region = CG.CGRectMake(\n",
    "    window['kCGWindowBounds']['X'],\n",
    "    window['kCGWindowBounds']['Y']+400,\n",
    "    window['kCGWindowBounds']['Width']-100,\n",
    "    window['kCGWindowBounds']['Height']-650,\n",
    ")\n",
    "\n",
    "    cg_image = CG.CGWindowListCreateImage(\n",
    "        region,\n",
    "        CG.kCGWindowListOptionOnScreenOnly,\n",
    "        window['kCGWindowOwnerPID'],\n",
    "        CG.kCGWindowImageDefault,\n",
    "    )\n",
    "\n",
    "    image = Image.frombuffer(\n",
    "        'RGBA',\n",
    "        (CG.CGImageGetWidth(cg_image), CG.CGImageGetHeight(cg_image)),\n",
    "        CG.CGDataProviderCopyData(CG.CGImageGetDataProvider(cg_image)),\n",
    "        'raw',\n",
    "        'BGRA',\n",
    "        CG.CGImageGetBytesPerRow(cg_image),\n",
    "        1,\n",
    "    )\n",
    "    if switch:\n",
    "        image = cv2.cvtColor(np.array(image), cv2.COLOR_RGB2GRAY)\n",
    "        img2 = image.copy()\n",
    "        result = cv2.matchTemplate(img2, template, method)\n",
    "        min_val, max_val, min_loc, max_loc = cv2.minMaxLoc(result)\n",
    "        print(min_val)\n",
    "        location = min_loc\n",
    "        bottom_right = (location[0] + w, location[1] + h)\n",
    "        img2 = cv2.rectangle(img2,location,bottom_right,255,5)\n",
    "        cv2.imwrite(f'result/{i}.png',img2)\n",
    "        if min_val>0.146:\n",
    "            time.sleep(0.01)\n",
    "            click_right()\n",
    "    else:\n",
    "        image = cv2.cvtColor(np.array(image), cv2.COLOR_RGB2GRAY)\n",
    "        img2 = image.copy()\n",
    "        result = cv2.matchTemplate(img2, template_flipped, method)\n",
    "        min_val, max_val, min_loc, max_loc = cv2.minMaxLoc(result)\n",
    "        print(min_val)\n",
    "        location = min_loc\n",
    "        img2 = cv2.rectangle(img2,location,bottom_right,255,5)\n",
    "        cv2.imwrite(f'result/{i}.png',img2)\n",
    "        bottom_right = (location[0] + w, location[1] + h)\n",
    "        if min_val>0.146:\n",
    "            time.sleep(0.01)\n",
    "            click_left()\n",
    "    if min_val<0.14 and min_val>0.06:\n",
    "        switch = not switch\n",
    "    cv2.destroyAllWindows()"
   ]
  },
  {
   "cell_type": "code",
   "execution_count": 32,
   "metadata": {},
   "outputs": [
    {
     "data": {
      "text/plain": [
       "816.0"
      ]
     },
     "execution_count": 32,
     "metadata": {},
     "output_type": "execute_result"
    }
   ],
   "source": [
    "window['kCGWindowBounds']['Height']"
   ]
  },
  {
   "cell_type": "code",
   "execution_count": 22,
   "metadata": {},
   "outputs": [],
   "source": [
    "pyautogui.click(window['kCGWindowBounds']['Width']-(200+window['kCGWindowBounds']['X']),window['kCGWindowBounds']['Height']-(100+window['kCGWindowBounds']['Y']))"
   ]
  },
  {
   "cell_type": "code",
   "execution_count": 30,
   "metadata": {},
   "outputs": [],
   "source": [
    "pyautogui.click(window['kCGWindowBounds']['Width']-(450+window['kCGWindowBounds']['X']),window['kCGWindowBounds']['Height']-(100+window['kCGWindowBounds']['Y']))\n"
   ]
  },
  {
   "cell_type": "code",
   "execution_count": 48,
   "metadata": {},
   "outputs": [],
   "source": [
    "pyautogui.click(window['kCGWindowBounds']['X']+200,window['kCGWindowBounds']['Y']+600)"
   ]
  },
  {
   "cell_type": "code",
   "execution_count": null,
   "metadata": {},
   "outputs": [],
   "source": []
  }
 ],
 "metadata": {
  "kernelspec": {
   "display_name": "Python 3",
   "language": "python",
   "name": "python3"
  },
  "language_info": {
   "codemirror_mode": {
    "name": "ipython",
    "version": 3
   },
   "file_extension": ".py",
   "mimetype": "text/x-python",
   "name": "python",
   "nbconvert_exporter": "python",
   "pygments_lexer": "ipython3",
   "version": "3.9.6"
  }
 },
 "nbformat": 4,
 "nbformat_minor": 2
}
